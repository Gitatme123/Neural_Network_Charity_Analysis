{
 "cells": [
  {
   "cell_type": "markdown",
   "metadata": {},
   "source": [
    "### Deliverable 1: Preprocessing the Data for a Neural Network"
   ]
  },
  {
   "cell_type": "code",
   "execution_count": 1,
   "metadata": {
    "scrolled": true
   },
   "outputs": [
    {
     "data": {
      "text/html": [
       "<div>\n",
       "<style scoped>\n",
       "    .dataframe tbody tr th:only-of-type {\n",
       "        vertical-align: middle;\n",
       "    }\n",
       "\n",
       "    .dataframe tbody tr th {\n",
       "        vertical-align: top;\n",
       "    }\n",
       "\n",
       "    .dataframe thead th {\n",
       "        text-align: right;\n",
       "    }\n",
       "</style>\n",
       "<table border=\"1\" class=\"dataframe\">\n",
       "  <thead>\n",
       "    <tr style=\"text-align: right;\">\n",
       "      <th></th>\n",
       "      <th>EIN</th>\n",
       "      <th>NAME</th>\n",
       "      <th>APPLICATION_TYPE</th>\n",
       "      <th>AFFILIATION</th>\n",
       "      <th>CLASSIFICATION</th>\n",
       "      <th>USE_CASE</th>\n",
       "      <th>ORGANIZATION</th>\n",
       "      <th>STATUS</th>\n",
       "      <th>INCOME_AMT</th>\n",
       "      <th>SPECIAL_CONSIDERATIONS</th>\n",
       "      <th>ASK_AMT</th>\n",
       "      <th>IS_SUCCESSFUL</th>\n",
       "    </tr>\n",
       "  </thead>\n",
       "  <tbody>\n",
       "    <tr>\n",
       "      <th>0</th>\n",
       "      <td>10520599</td>\n",
       "      <td>BLUE KNIGHTS MOTORCYCLE CLUB</td>\n",
       "      <td>T10</td>\n",
       "      <td>Independent</td>\n",
       "      <td>C1000</td>\n",
       "      <td>ProductDev</td>\n",
       "      <td>Association</td>\n",
       "      <td>1</td>\n",
       "      <td>0</td>\n",
       "      <td>N</td>\n",
       "      <td>5000</td>\n",
       "      <td>1</td>\n",
       "    </tr>\n",
       "    <tr>\n",
       "      <th>1</th>\n",
       "      <td>10531628</td>\n",
       "      <td>AMERICAN CHESAPEAKE CLUB CHARITABLE TR</td>\n",
       "      <td>T3</td>\n",
       "      <td>Independent</td>\n",
       "      <td>C2000</td>\n",
       "      <td>Preservation</td>\n",
       "      <td>Co-operative</td>\n",
       "      <td>1</td>\n",
       "      <td>1-9999</td>\n",
       "      <td>N</td>\n",
       "      <td>108590</td>\n",
       "      <td>1</td>\n",
       "    </tr>\n",
       "    <tr>\n",
       "      <th>2</th>\n",
       "      <td>10547893</td>\n",
       "      <td>ST CLOUD PROFESSIONAL FIREFIGHTERS</td>\n",
       "      <td>T5</td>\n",
       "      <td>CompanySponsored</td>\n",
       "      <td>C3000</td>\n",
       "      <td>ProductDev</td>\n",
       "      <td>Association</td>\n",
       "      <td>1</td>\n",
       "      <td>0</td>\n",
       "      <td>N</td>\n",
       "      <td>5000</td>\n",
       "      <td>0</td>\n",
       "    </tr>\n",
       "    <tr>\n",
       "      <th>3</th>\n",
       "      <td>10553066</td>\n",
       "      <td>SOUTHSIDE ATHLETIC ASSOCIATION</td>\n",
       "      <td>T3</td>\n",
       "      <td>CompanySponsored</td>\n",
       "      <td>C2000</td>\n",
       "      <td>Preservation</td>\n",
       "      <td>Trust</td>\n",
       "      <td>1</td>\n",
       "      <td>10000-24999</td>\n",
       "      <td>N</td>\n",
       "      <td>6692</td>\n",
       "      <td>1</td>\n",
       "    </tr>\n",
       "    <tr>\n",
       "      <th>4</th>\n",
       "      <td>10556103</td>\n",
       "      <td>GENETIC RESEARCH INSTITUTE OF THE DESERT</td>\n",
       "      <td>T3</td>\n",
       "      <td>Independent</td>\n",
       "      <td>C1000</td>\n",
       "      <td>Heathcare</td>\n",
       "      <td>Trust</td>\n",
       "      <td>1</td>\n",
       "      <td>100000-499999</td>\n",
       "      <td>N</td>\n",
       "      <td>142590</td>\n",
       "      <td>1</td>\n",
       "    </tr>\n",
       "  </tbody>\n",
       "</table>\n",
       "</div>"
      ],
      "text/plain": [
       "        EIN                                      NAME APPLICATION_TYPE  \\\n",
       "0  10520599              BLUE KNIGHTS MOTORCYCLE CLUB              T10   \n",
       "1  10531628    AMERICAN CHESAPEAKE CLUB CHARITABLE TR               T3   \n",
       "2  10547893        ST CLOUD PROFESSIONAL FIREFIGHTERS               T5   \n",
       "3  10553066            SOUTHSIDE ATHLETIC ASSOCIATION               T3   \n",
       "4  10556103  GENETIC RESEARCH INSTITUTE OF THE DESERT               T3   \n",
       "\n",
       "        AFFILIATION CLASSIFICATION      USE_CASE  ORGANIZATION  STATUS  \\\n",
       "0       Independent          C1000    ProductDev   Association       1   \n",
       "1       Independent          C2000  Preservation  Co-operative       1   \n",
       "2  CompanySponsored          C3000    ProductDev   Association       1   \n",
       "3  CompanySponsored          C2000  Preservation         Trust       1   \n",
       "4       Independent          C1000     Heathcare         Trust       1   \n",
       "\n",
       "      INCOME_AMT SPECIAL_CONSIDERATIONS  ASK_AMT  IS_SUCCESSFUL  \n",
       "0              0                      N     5000              1  \n",
       "1         1-9999                      N   108590              1  \n",
       "2              0                      N     5000              0  \n",
       "3    10000-24999                      N     6692              1  \n",
       "4  100000-499999                      N   142590              1  "
      ]
     },
     "execution_count": 1,
     "metadata": {},
     "output_type": "execute_result"
    }
   ],
   "source": [
    "# Import our dependencies\n",
    "from sklearn.model_selection import train_test_split\n",
    "from sklearn.preprocessing import StandardScaler,OneHotEncoder\n",
    "import pandas as pd\n",
    "import tensorflow as tf\n",
    "\n",
    "#  Import and read the charity_data.csv.\n",
    "import pandas as pd \n",
    "application_df = pd.read_csv(\"Resources/charity_data.csv\")\n",
    "application_df.head()"
   ]
  },
  {
   "cell_type": "code",
   "execution_count": 2,
   "metadata": {
    "scrolled": true
   },
   "outputs": [
    {
     "data": {
      "text/html": [
       "<div>\n",
       "<style scoped>\n",
       "    .dataframe tbody tr th:only-of-type {\n",
       "        vertical-align: middle;\n",
       "    }\n",
       "\n",
       "    .dataframe tbody tr th {\n",
       "        vertical-align: top;\n",
       "    }\n",
       "\n",
       "    .dataframe thead th {\n",
       "        text-align: right;\n",
       "    }\n",
       "</style>\n",
       "<table border=\"1\" class=\"dataframe\">\n",
       "  <thead>\n",
       "    <tr style=\"text-align: right;\">\n",
       "      <th></th>\n",
       "      <th>APPLICATION_TYPE</th>\n",
       "      <th>AFFILIATION</th>\n",
       "      <th>CLASSIFICATION</th>\n",
       "      <th>USE_CASE</th>\n",
       "      <th>ORGANIZATION</th>\n",
       "      <th>STATUS</th>\n",
       "      <th>INCOME_AMT</th>\n",
       "      <th>SPECIAL_CONSIDERATIONS</th>\n",
       "      <th>ASK_AMT</th>\n",
       "      <th>IS_SUCCESSFUL</th>\n",
       "    </tr>\n",
       "  </thead>\n",
       "  <tbody>\n",
       "    <tr>\n",
       "      <th>0</th>\n",
       "      <td>T10</td>\n",
       "      <td>Independent</td>\n",
       "      <td>C1000</td>\n",
       "      <td>ProductDev</td>\n",
       "      <td>Association</td>\n",
       "      <td>1</td>\n",
       "      <td>0</td>\n",
       "      <td>N</td>\n",
       "      <td>5000</td>\n",
       "      <td>1</td>\n",
       "    </tr>\n",
       "    <tr>\n",
       "      <th>1</th>\n",
       "      <td>T3</td>\n",
       "      <td>Independent</td>\n",
       "      <td>C2000</td>\n",
       "      <td>Preservation</td>\n",
       "      <td>Co-operative</td>\n",
       "      <td>1</td>\n",
       "      <td>1-9999</td>\n",
       "      <td>N</td>\n",
       "      <td>108590</td>\n",
       "      <td>1</td>\n",
       "    </tr>\n",
       "    <tr>\n",
       "      <th>2</th>\n",
       "      <td>T5</td>\n",
       "      <td>CompanySponsored</td>\n",
       "      <td>C3000</td>\n",
       "      <td>ProductDev</td>\n",
       "      <td>Association</td>\n",
       "      <td>1</td>\n",
       "      <td>0</td>\n",
       "      <td>N</td>\n",
       "      <td>5000</td>\n",
       "      <td>0</td>\n",
       "    </tr>\n",
       "    <tr>\n",
       "      <th>3</th>\n",
       "      <td>T3</td>\n",
       "      <td>CompanySponsored</td>\n",
       "      <td>C2000</td>\n",
       "      <td>Preservation</td>\n",
       "      <td>Trust</td>\n",
       "      <td>1</td>\n",
       "      <td>10000-24999</td>\n",
       "      <td>N</td>\n",
       "      <td>6692</td>\n",
       "      <td>1</td>\n",
       "    </tr>\n",
       "    <tr>\n",
       "      <th>4</th>\n",
       "      <td>T3</td>\n",
       "      <td>Independent</td>\n",
       "      <td>C1000</td>\n",
       "      <td>Heathcare</td>\n",
       "      <td>Trust</td>\n",
       "      <td>1</td>\n",
       "      <td>100000-499999</td>\n",
       "      <td>N</td>\n",
       "      <td>142590</td>\n",
       "      <td>1</td>\n",
       "    </tr>\n",
       "  </tbody>\n",
       "</table>\n",
       "</div>"
      ],
      "text/plain": [
       "  APPLICATION_TYPE       AFFILIATION CLASSIFICATION      USE_CASE  \\\n",
       "0              T10       Independent          C1000    ProductDev   \n",
       "1               T3       Independent          C2000  Preservation   \n",
       "2               T5  CompanySponsored          C3000    ProductDev   \n",
       "3               T3  CompanySponsored          C2000  Preservation   \n",
       "4               T3       Independent          C1000     Heathcare   \n",
       "\n",
       "   ORGANIZATION  STATUS     INCOME_AMT SPECIAL_CONSIDERATIONS  ASK_AMT  \\\n",
       "0   Association       1              0                      N     5000   \n",
       "1  Co-operative       1         1-9999                      N   108590   \n",
       "2   Association       1              0                      N     5000   \n",
       "3         Trust       1    10000-24999                      N     6692   \n",
       "4         Trust       1  100000-499999                      N   142590   \n",
       "\n",
       "   IS_SUCCESSFUL  \n",
       "0              1  \n",
       "1              1  \n",
       "2              0  \n",
       "3              1  \n",
       "4              1  "
      ]
     },
     "execution_count": 2,
     "metadata": {},
     "output_type": "execute_result"
    }
   ],
   "source": [
    "# Drop the non-beneficial ID columns, 'EIN' and 'NAME'.\n",
    "application_df = application_df.drop(columns=['EIN','NAME'])\n",
    "application_df.head()"
   ]
  },
  {
   "cell_type": "code",
   "execution_count": 3,
   "metadata": {},
   "outputs": [
    {
     "data": {
      "text/plain": [
       "APPLICATION_TYPE            17\n",
       "AFFILIATION                  6\n",
       "CLASSIFICATION              71\n",
       "USE_CASE                     5\n",
       "ORGANIZATION                 4\n",
       "STATUS                       2\n",
       "INCOME_AMT                   9\n",
       "SPECIAL_CONSIDERATIONS       2\n",
       "ASK_AMT                   8747\n",
       "IS_SUCCESSFUL                2\n",
       "dtype: int64"
      ]
     },
     "execution_count": 3,
     "metadata": {},
     "output_type": "execute_result"
    }
   ],
   "source": [
    "# Determine the number of unique values in each column.\n",
    "application_df.nunique()\n"
   ]
  },
  {
   "cell_type": "code",
   "execution_count": 4,
   "metadata": {},
   "outputs": [
    {
     "data": {
      "text/plain": [
       "APPLICATION_TYPE      17\n",
       "CLASSIFICATION        71\n",
       "ASK_AMT             8747\n",
       "dtype: int64"
      ]
     },
     "execution_count": 4,
     "metadata": {},
     "output_type": "execute_result"
    }
   ],
   "source": [
    "# For each of the columsn with 10 unique values, determine the number of data points for each unique value\n",
    "over_ten_uniques = application_df.drop(columns=[\"AFFILIATION\",\"STATUS\",\"USE_CASE\",\"ORGANIZATION\",\"INCOME_AMT\",\"SPECIAL_CONSIDERATIONS\",\"IS_SUCCESSFUL\"])\n",
    "over_ten_uniques.nunique()\n"
   ]
  },
  {
   "cell_type": "code",
   "execution_count": 5,
   "metadata": {},
   "outputs": [
    {
     "name": "stdout",
     "output_type": "stream",
     "text": [
      "C1000    17326\n",
      "C2000     6074\n",
      "C1200     4837\n",
      "C3000     1918\n",
      "C2100     1883\n",
      "         ...  \n",
      "C4120        1\n",
      "C8210        1\n",
      "C2561        1\n",
      "C4500        1\n",
      "C2150        1\n",
      "Name: CLASSIFICATION, Length: 71, dtype: int64 5000        25398\n",
      "10478           3\n",
      "15583           3\n",
      "63981           3\n",
      "6725            3\n",
      "            ...  \n",
      "5371754         1\n",
      "30060           1\n",
      "43091152        1\n",
      "18683           1\n",
      "36500179        1\n",
      "Name: ASK_AMT, Length: 8747, dtype: int64 T3     27037\n",
      "T4      1542\n",
      "T6      1216\n",
      "T5      1173\n",
      "T19     1065\n",
      "T8       737\n",
      "T7       725\n",
      "T10      528\n",
      "T9       156\n",
      "T13       66\n",
      "T12       27\n",
      "T2        16\n",
      "T25        3\n",
      "T14        3\n",
      "T29        2\n",
      "T15        2\n",
      "T17        1\n",
      "Name: APPLICATION_TYPE, dtype: int64\n"
     ]
    }
   ],
   "source": [
    "# For each of the columns with 10 unique values, determine the number of data points for each unique value\n",
    "\n",
    "#number of data points for each unique value of Application Types\n",
    "application_value_counts = application_df.APPLICATION_TYPE.value_counts()\n",
    "\n",
    "#number of data points for each unique value of Classifications\n",
    "application_value_counts1 = application_df.CLASSIFICATION.value_counts()\n",
    "\n",
    "#number of data points for each unique value of Ask Amounts\n",
    "application_value_counts2 = application_df.ASK_AMT.value_counts()\n",
    "\n",
    "#printing the values for each unique value to see if the code worked\n",
    "print(application_value_counts1, application_value_counts2, application_value_counts)"
   ]
  },
  {
   "cell_type": "code",
   "execution_count": 6,
   "metadata": {},
   "outputs": [
    {
     "data": {
      "text/plain": [
       "<AxesSubplot:ylabel='Density'>"
      ]
     },
     "execution_count": 6,
     "metadata": {},
     "output_type": "execute_result"
    },
    {
     "data": {
      "image/png": "[encoded data removed]",
      "text/plain": [
       "<Figure size 432x288 with 1 Axes>"
      ]
     },
     "metadata": {
      "needs_background": "light"
     },
     "output_type": "display_data"
    }
   ],
   "source": [
    "#density chart for Classifications\n",
    "application_value_counts1.plot.density()"
   ]
  },
  {
   "cell_type": "code",
   "execution_count": 7,
   "metadata": {},
   "outputs": [
    {
     "data": {
      "text/plain": [
       "<AxesSubplot:ylabel='Density'>"
      ]
     },
     "execution_count": 7,
     "metadata": {},
     "output_type": "execute_result"
    },
    {
     "data": {
      "image/png": "[encoded data removed]",
      "text/plain": [
       "<Figure size 432x288 with 1 Axes>"
      ]
     },
     "metadata": {
      "needs_background": "light"
     },
     "output_type": "display_data"
    }
   ],
   "source": [
    "#density chart for Ask Amounts\n",
    "application_value_counts2.plot.density()"
   ]
  },
  {
   "cell_type": "code",
   "execution_count": 8,
   "metadata": {},
   "outputs": [
    {
     "data": {
      "text/plain": [
       "<AxesSubplot:ylabel='Density'>"
      ]
     },
     "execution_count": 8,
     "metadata": {},
     "output_type": "execute_result"
    },
    {
     "data": {
      "image/png": "[encoded data removed]",
      "text/plain": [
       "<Figure size 432x288 with 1 Axes>"
      ]
     },
     "metadata": {
      "needs_background": "light"
     },
     "output_type": "display_data"
    }
   ],
   "source": [
    "#density chart for Application types\n",
    "application_value_counts.plot.density()"
   ]
  },
  {
   "cell_type": "code",
   "execution_count": 9,
   "metadata": {},
   "outputs": [
    {
     "data": {
      "text/plain": [
       "<AxesSubplot:ylabel='Density'>"
      ]
     },
     "execution_count": 9,
     "metadata": {},
     "output_type": "execute_result"
    },
    {
     "data": {
      "image/png": "[encoded data removed]",
      "text/plain": [
       "<Figure size 432x288 with 1 Axes>"
      ]
     },
     "metadata": {
      "needs_background": "light"
     },
     "output_type": "display_data"
    }
   ],
   "source": [
    "#density chart for all 3 columns we included above\n",
    "#density chart for Classifications\n",
    "over_ten_uniques.plot.density()"
   ]
  },
  {
   "cell_type": "code",
   "execution_count": 10,
   "metadata": {},
   "outputs": [
    {
     "data": {
      "text/plain": [
       "T3     27037\n",
       "T4      1542\n",
       "T6      1216\n",
       "T5      1173\n",
       "T19     1065\n",
       "T8       737\n",
       "T7       725\n",
       "T10      528\n",
       "T9       156\n",
       "T13       66\n",
       "T12       27\n",
       "T2        16\n",
       "T25        3\n",
       "T14        3\n",
       "T29        2\n",
       "T15        2\n",
       "T17        1\n",
       "Name: APPLICATION_TYPE, dtype: int64"
      ]
     },
     "execution_count": 10,
     "metadata": {},
     "output_type": "execute_result"
    }
   ],
   "source": [
    "# Look at APPLICATION_TYPE value counts for binning\n",
    "application_value_counts = application_df.APPLICATION_TYPE.value_counts()\n",
    "application_value_counts"
   ]
  },
  {
   "cell_type": "code",
   "execution_count": 11,
   "metadata": {},
   "outputs": [
    {
     "data": {
      "text/plain": [
       "<AxesSubplot:ylabel='Density'>"
      ]
     },
     "execution_count": 11,
     "metadata": {},
     "output_type": "execute_result"
    },
    {
     "data": {
      "image/png": "[encoded data removed]",
      "text/plain": [
       "<Figure size 432x288 with 1 Axes>"
      ]
     },
     "metadata": {
      "needs_background": "light"
     },
     "output_type": "display_data"
    }
   ],
   "source": [
    "# Visualize the value counts of APPLICATION_TYPE\n",
    "application_value_counts.plot.density()"
   ]
  },
  {
   "cell_type": "code",
   "execution_count": 12,
   "metadata": {},
   "outputs": [
    {
     "data": {
      "text/plain": [
       "T3       27037\n",
       "T4        1542\n",
       "T6        1216\n",
       "T5        1173\n",
       "T19       1065\n",
       "T8         737\n",
       "T7         725\n",
       "T10        528\n",
       "Other      276\n",
       "Name: APPLICATION_TYPE, dtype: int64"
      ]
     },
     "execution_count": 12,
     "metadata": {},
     "output_type": "execute_result"
    }
   ],
   "source": [
    "# Determine which values to replace if counts are less than ...?\n",
    "# From the chart and list of values for application types i will put anything with less than 500 count into the \"Other Bin\" \n",
    "replace_application = list(application_value_counts[application_value_counts < 500].index)\n",
    "\n",
    "# Replace in dataframe\n",
    "for app in replace_application:\n",
    "    application_df.APPLICATION_TYPE = application_df.APPLICATION_TYPE.replace(app,\"Other\")\n",
    "    \n",
    "# Check to make sure binning was successful\n",
    "application_df.APPLICATION_TYPE.value_counts()"
   ]
  },
  {
   "cell_type": "code",
   "execution_count": 13,
   "metadata": {},
   "outputs": [
    {
     "data": {
      "text/plain": [
       "C1000    17326\n",
       "C2000     6074\n",
       "C1200     4837\n",
       "C3000     1918\n",
       "C2100     1883\n",
       "         ...  \n",
       "C4120        1\n",
       "C8210        1\n",
       "C2561        1\n",
       "C4500        1\n",
       "C2150        1\n",
       "Name: CLASSIFICATION, Length: 71, dtype: int64"
      ]
     },
     "execution_count": 13,
     "metadata": {},
     "output_type": "execute_result"
    }
   ],
   "source": [
    "# Look at CLASSIFICATION value counts for binning\n",
    "classification_value_counts = application_df.CLASSIFICATION.value_counts()\n",
    "classification_value_counts"
   ]
  },
  {
   "cell_type": "code",
   "execution_count": 14,
   "metadata": {},
   "outputs": [
    {
     "data": {
      "text/plain": [
       "<AxesSubplot:ylabel='Density'>"
      ]
     },
     "execution_count": 14,
     "metadata": {},
     "output_type": "execute_result"
    },
    {
     "data": {
      "image/png": "[encoded data removed]",
      "text/plain": [
       "<Figure size 432x288 with 1 Axes>"
      ]
     },
     "metadata": {
      "needs_background": "light"
     },
     "output_type": "display_data"
    }
   ],
   "source": [
    "#density chart for Classifications\n",
    "classification_value_counts.plot.density()"
   ]
  },
  {
   "cell_type": "code",
   "execution_count": 15,
   "metadata": {},
   "outputs": [
    {
     "data": {
      "text/plain": [
       "C1000    17326\n",
       "C2000     6074\n",
       "C1200     4837\n",
       "Other     2261\n",
       "C3000     1918\n",
       "C2100     1883\n",
       "Name: CLASSIFICATION, dtype: int64"
      ]
     },
     "execution_count": 15,
     "metadata": {},
     "output_type": "execute_result"
    }
   ],
   "source": [
    "# Replace in dataframe\n",
    "replace_classification = list(application_value_counts1[application_value_counts1 < 1000].index)\n",
    "\n",
    "for app1 in replace_classification:\n",
    "    application_df.CLASSIFICATION = application_df.CLASSIFICATION.replace(app1,\"Other\")\n",
    "    \n",
    "# Check to make sure binning was successful\n",
    "application_df.CLASSIFICATION.value_counts()"
   ]
  },
  {
   "cell_type": "code",
   "execution_count": 16,
   "metadata": {},
   "outputs": [
    {
     "data": {
      "text/plain": [
       "<AxesSubplot:ylabel='Density'>"
      ]
     },
     "execution_count": 16,
     "metadata": {},
     "output_type": "execute_result"
    },
    {
     "data": {
      "image/png": "[encoded data removed]",
      "text/plain": [
       "<Figure size 432x288 with 1 Axes>"
      ]
     },
     "metadata": {
      "needs_background": "light"
     },
     "output_type": "display_data"
    }
   ],
   "source": [
    "# Visualize the value counts of CLASSIFICATION\n",
    "newclsdensity = application_df.CLASSIFICATION.value_counts()\n",
    "newclsdensity.plot.density()"
   ]
  },
  {
   "cell_type": "code",
   "execution_count": 17,
   "metadata": {},
   "outputs": [],
   "source": [
    "# Generate our categorical variable lists\n",
    "application_cat = application_df.dtypes[application_df.dtypes == \"object\"].index.tolist()\n"
   ]
  },
  {
   "cell_type": "code",
   "execution_count": 18,
   "metadata": {},
   "outputs": [
    {
     "data": {
      "text/plain": [
       "APPLICATION_TYPE          9\n",
       "AFFILIATION               6\n",
       "CLASSIFICATION            6\n",
       "USE_CASE                  5\n",
       "ORGANIZATION              4\n",
       "INCOME_AMT                9\n",
       "SPECIAL_CONSIDERATIONS    2\n",
       "dtype: int64"
      ]
     },
     "execution_count": 18,
     "metadata": {},
     "output_type": "execute_result"
    }
   ],
   "source": [
    "# check for the number of unique values in each column\n",
    "application_df[application_cat].nunique()\n"
   ]
  },
  {
   "cell_type": "code",
   "execution_count": 19,
   "metadata": {},
   "outputs": [
    {
     "data": {
      "text/html": [
       "<div>\n",
       "<style scoped>\n",
       "    .dataframe tbody tr th:only-of-type {\n",
       "        vertical-align: middle;\n",
       "    }\n",
       "\n",
       "    .dataframe tbody tr th {\n",
       "        vertical-align: top;\n",
       "    }\n",
       "\n",
       "    .dataframe thead th {\n",
       "        text-align: right;\n",
       "    }\n",
       "</style>\n",
       "<table border=\"1\" class=\"dataframe\">\n",
       "  <thead>\n",
       "    <tr style=\"text-align: right;\">\n",
       "      <th></th>\n",
       "      <th>APPLICATION_TYPE_Other</th>\n",
       "      <th>APPLICATION_TYPE_T10</th>\n",
       "      <th>APPLICATION_TYPE_T19</th>\n",
       "      <th>APPLICATION_TYPE_T3</th>\n",
       "      <th>APPLICATION_TYPE_T4</th>\n",
       "      <th>APPLICATION_TYPE_T5</th>\n",
       "      <th>APPLICATION_TYPE_T6</th>\n",
       "      <th>APPLICATION_TYPE_T7</th>\n",
       "      <th>APPLICATION_TYPE_T8</th>\n",
       "      <th>AFFILIATION_CompanySponsored</th>\n",
       "      <th>...</th>\n",
       "      <th>INCOME_AMT_1-9999</th>\n",
       "      <th>INCOME_AMT_10000-24999</th>\n",
       "      <th>INCOME_AMT_100000-499999</th>\n",
       "      <th>INCOME_AMT_10M-50M</th>\n",
       "      <th>INCOME_AMT_1M-5M</th>\n",
       "      <th>INCOME_AMT_25000-99999</th>\n",
       "      <th>INCOME_AMT_50M+</th>\n",
       "      <th>INCOME_AMT_5M-10M</th>\n",
       "      <th>SPECIAL_CONSIDERATIONS_N</th>\n",
       "      <th>SPECIAL_CONSIDERATIONS_Y</th>\n",
       "    </tr>\n",
       "  </thead>\n",
       "  <tbody>\n",
       "    <tr>\n",
       "      <th>0</th>\n",
       "      <td>0.0</td>\n",
       "      <td>1.0</td>\n",
       "      <td>0.0</td>\n",
       "      <td>0.0</td>\n",
       "      <td>0.0</td>\n",
       "      <td>0.0</td>\n",
       "      <td>0.0</td>\n",
       "      <td>0.0</td>\n",
       "      <td>0.0</td>\n",
       "      <td>0.0</td>\n",
       "      <td>...</td>\n",
       "      <td>0.0</td>\n",
       "      <td>0.0</td>\n",
       "      <td>0.0</td>\n",
       "      <td>0.0</td>\n",
       "      <td>0.0</td>\n",
       "      <td>0.0</td>\n",
       "      <td>0.0</td>\n",
       "      <td>0.0</td>\n",
       "      <td>1.0</td>\n",
       "      <td>0.0</td>\n",
       "    </tr>\n",
       "    <tr>\n",
       "      <th>1</th>\n",
       "      <td>0.0</td>\n",
       "      <td>0.0</td>\n",
       "      <td>0.0</td>\n",
       "      <td>1.0</td>\n",
       "      <td>0.0</td>\n",
       "      <td>0.0</td>\n",
       "      <td>0.0</td>\n",
       "      <td>0.0</td>\n",
       "      <td>0.0</td>\n",
       "      <td>0.0</td>\n",
       "      <td>...</td>\n",
       "      <td>1.0</td>\n",
       "      <td>0.0</td>\n",
       "      <td>0.0</td>\n",
       "      <td>0.0</td>\n",
       "      <td>0.0</td>\n",
       "      <td>0.0</td>\n",
       "      <td>0.0</td>\n",
       "      <td>0.0</td>\n",
       "      <td>1.0</td>\n",
       "      <td>0.0</td>\n",
       "    </tr>\n",
       "    <tr>\n",
       "      <th>2</th>\n",
       "      <td>0.0</td>\n",
       "      <td>0.0</td>\n",
       "      <td>0.0</td>\n",
       "      <td>0.0</td>\n",
       "      <td>0.0</td>\n",
       "      <td>1.0</td>\n",
       "      <td>0.0</td>\n",
       "      <td>0.0</td>\n",
       "      <td>0.0</td>\n",
       "      <td>1.0</td>\n",
       "      <td>...</td>\n",
       "      <td>0.0</td>\n",
       "      <td>0.0</td>\n",
       "      <td>0.0</td>\n",
       "      <td>0.0</td>\n",
       "      <td>0.0</td>\n",
       "      <td>0.0</td>\n",
       "      <td>0.0</td>\n",
       "      <td>0.0</td>\n",
       "      <td>1.0</td>\n",
       "      <td>0.0</td>\n",
       "    </tr>\n",
       "    <tr>\n",
       "      <th>3</th>\n",
       "      <td>0.0</td>\n",
       "      <td>0.0</td>\n",
       "      <td>0.0</td>\n",
       "      <td>1.0</td>\n",
       "      <td>0.0</td>\n",
       "      <td>0.0</td>\n",
       "      <td>0.0</td>\n",
       "      <td>0.0</td>\n",
       "      <td>0.0</td>\n",
       "      <td>1.0</td>\n",
       "      <td>...</td>\n",
       "      <td>0.0</td>\n",
       "      <td>1.0</td>\n",
       "      <td>0.0</td>\n",
       "      <td>0.0</td>\n",
       "      <td>0.0</td>\n",
       "      <td>0.0</td>\n",
       "      <td>0.0</td>\n",
       "      <td>0.0</td>\n",
       "      <td>1.0</td>\n",
       "      <td>0.0</td>\n",
       "    </tr>\n",
       "    <tr>\n",
       "      <th>4</th>\n",
       "      <td>0.0</td>\n",
       "      <td>0.0</td>\n",
       "      <td>0.0</td>\n",
       "      <td>1.0</td>\n",
       "      <td>0.0</td>\n",
       "      <td>0.0</td>\n",
       "      <td>0.0</td>\n",
       "      <td>0.0</td>\n",
       "      <td>0.0</td>\n",
       "      <td>0.0</td>\n",
       "      <td>...</td>\n",
       "      <td>0.0</td>\n",
       "      <td>0.0</td>\n",
       "      <td>1.0</td>\n",
       "      <td>0.0</td>\n",
       "      <td>0.0</td>\n",
       "      <td>0.0</td>\n",
       "      <td>0.0</td>\n",
       "      <td>0.0</td>\n",
       "      <td>1.0</td>\n",
       "      <td>0.0</td>\n",
       "    </tr>\n",
       "  </tbody>\n",
       "</table>\n",
       "<p>5 rows × 41 columns</p>\n",
       "</div>"
      ],
      "text/plain": [
       "   APPLICATION_TYPE_Other  APPLICATION_TYPE_T10  APPLICATION_TYPE_T19  \\\n",
       "0                     0.0                   1.0                   0.0   \n",
       "1                     0.0                   0.0                   0.0   \n",
       "2                     0.0                   0.0                   0.0   \n",
       "3                     0.0                   0.0                   0.0   \n",
       "4                     0.0                   0.0                   0.0   \n",
       "\n",
       "   APPLICATION_TYPE_T3  APPLICATION_TYPE_T4  APPLICATION_TYPE_T5  \\\n",
       "0                  0.0                  0.0                  0.0   \n",
       "1                  1.0                  0.0                  0.0   \n",
       "2                  0.0                  0.0                  1.0   \n",
       "3                  1.0                  0.0                  0.0   \n",
       "4                  1.0                  0.0                  0.0   \n",
       "\n",
       "   APPLICATION_TYPE_T6  APPLICATION_TYPE_T7  APPLICATION_TYPE_T8  \\\n",
       "0                  0.0                  0.0                  0.0   \n",
       "1                  0.0                  0.0                  0.0   \n",
       "2                  0.0                  0.0                  0.0   \n",
       "3                  0.0                  0.0                  0.0   \n",
       "4                  0.0                  0.0                  0.0   \n",
       "\n",
       "   AFFILIATION_CompanySponsored  ...  INCOME_AMT_1-9999  \\\n",
       "0                           0.0  ...                0.0   \n",
       "1                           0.0  ...                1.0   \n",
       "2                           1.0  ...                0.0   \n",
       "3                           1.0  ...                0.0   \n",
       "4                           0.0  ...                0.0   \n",
       "\n",
       "   INCOME_AMT_10000-24999  INCOME_AMT_100000-499999  INCOME_AMT_10M-50M  \\\n",
       "0                     0.0                       0.0                 0.0   \n",
       "1                     0.0                       0.0                 0.0   \n",
       "2                     0.0                       0.0                 0.0   \n",
       "3                     1.0                       0.0                 0.0   \n",
       "4                     0.0                       1.0                 0.0   \n",
       "\n",
       "   INCOME_AMT_1M-5M  INCOME_AMT_25000-99999  INCOME_AMT_50M+  \\\n",
       "0               0.0                     0.0              0.0   \n",
       "1               0.0                     0.0              0.0   \n",
       "2               0.0                     0.0              0.0   \n",
       "3               0.0                     0.0              0.0   \n",
       "4               0.0                     0.0              0.0   \n",
       "\n",
       "   INCOME_AMT_5M-10M  SPECIAL_CONSIDERATIONS_N  SPECIAL_CONSIDERATIONS_Y  \n",
       "0                0.0                       1.0                       0.0  \n",
       "1                0.0                       1.0                       0.0  \n",
       "2                0.0                       1.0                       0.0  \n",
       "3                0.0                       1.0                       0.0  \n",
       "4                0.0                       1.0                       0.0  \n",
       "\n",
       "[5 rows x 41 columns]"
      ]
     },
     "execution_count": 19,
     "metadata": {},
     "output_type": "execute_result"
    }
   ],
   "source": [
    "# Create a OneHotEncoder instance\n",
    "enc = OneHotEncoder(sparse=False)\n",
    "\n",
    "# Fit and transform the OneHotEncoder using the categorical variable list\n",
    "encode_df = pd.DataFrame(enc.fit_transform(application_df[application_cat]))\n",
    "\n",
    "# Add the encoded variable names to the dataframe\n",
    "encode_df.columns = enc.get_feature_names(application_cat)\n",
    "encode_df.head()"
   ]
  },
  {
   "cell_type": "code",
   "execution_count": 20,
   "metadata": {},
   "outputs": [
    {
     "name": "stderr",
     "output_type": "stream",
     "text": [
      "/Users/davidwiers/opt/anaconda3/envs/mlenv/lib/python3.7/site-packages/ipykernel_launcher.py:3: FutureWarning: In a future version of pandas all arguments of DataFrame.drop except for the argument 'labels' will be keyword-only\n",
      "  This is separate from the ipykernel package so we can avoid doing imports until\n"
     ]
    },
    {
     "data": {
      "text/html": [
       "<div>\n",
       "<style scoped>\n",
       "    .dataframe tbody tr th:only-of-type {\n",
       "        vertical-align: middle;\n",
       "    }\n",
       "\n",
       "    .dataframe tbody tr th {\n",
       "        vertical-align: top;\n",
       "    }\n",
       "\n",
       "    .dataframe thead th {\n",
       "        text-align: right;\n",
       "    }\n",
       "</style>\n",
       "<table border=\"1\" class=\"dataframe\">\n",
       "  <thead>\n",
       "    <tr style=\"text-align: right;\">\n",
       "      <th></th>\n",
       "      <th>STATUS</th>\n",
       "      <th>ASK_AMT</th>\n",
       "      <th>IS_SUCCESSFUL</th>\n",
       "      <th>APPLICATION_TYPE_Other</th>\n",
       "      <th>APPLICATION_TYPE_T10</th>\n",
       "      <th>APPLICATION_TYPE_T19</th>\n",
       "      <th>APPLICATION_TYPE_T3</th>\n",
       "      <th>APPLICATION_TYPE_T4</th>\n",
       "      <th>APPLICATION_TYPE_T5</th>\n",
       "      <th>APPLICATION_TYPE_T6</th>\n",
       "      <th>...</th>\n",
       "      <th>INCOME_AMT_1-9999</th>\n",
       "      <th>INCOME_AMT_10000-24999</th>\n",
       "      <th>INCOME_AMT_100000-499999</th>\n",
       "      <th>INCOME_AMT_10M-50M</th>\n",
       "      <th>INCOME_AMT_1M-5M</th>\n",
       "      <th>INCOME_AMT_25000-99999</th>\n",
       "      <th>INCOME_AMT_50M+</th>\n",
       "      <th>INCOME_AMT_5M-10M</th>\n",
       "      <th>SPECIAL_CONSIDERATIONS_N</th>\n",
       "      <th>SPECIAL_CONSIDERATIONS_Y</th>\n",
       "    </tr>\n",
       "  </thead>\n",
       "  <tbody>\n",
       "    <tr>\n",
       "      <th>0</th>\n",
       "      <td>1</td>\n",
       "      <td>5000</td>\n",
       "      <td>1</td>\n",
       "      <td>0.0</td>\n",
       "      <td>1.0</td>\n",
       "      <td>0.0</td>\n",
       "      <td>0.0</td>\n",
       "      <td>0.0</td>\n",
       "      <td>0.0</td>\n",
       "      <td>0.0</td>\n",
       "      <td>...</td>\n",
       "      <td>0.0</td>\n",
       "      <td>0.0</td>\n",
       "      <td>0.0</td>\n",
       "      <td>0.0</td>\n",
       "      <td>0.0</td>\n",
       "      <td>0.0</td>\n",
       "      <td>0.0</td>\n",
       "      <td>0.0</td>\n",
       "      <td>1.0</td>\n",
       "      <td>0.0</td>\n",
       "    </tr>\n",
       "    <tr>\n",
       "      <th>1</th>\n",
       "      <td>1</td>\n",
       "      <td>108590</td>\n",
       "      <td>1</td>\n",
       "      <td>0.0</td>\n",
       "      <td>0.0</td>\n",
       "      <td>0.0</td>\n",
       "      <td>1.0</td>\n",
       "      <td>0.0</td>\n",
       "      <td>0.0</td>\n",
       "      <td>0.0</td>\n",
       "      <td>...</td>\n",
       "      <td>1.0</td>\n",
       "      <td>0.0</td>\n",
       "      <td>0.0</td>\n",
       "      <td>0.0</td>\n",
       "      <td>0.0</td>\n",
       "      <td>0.0</td>\n",
       "      <td>0.0</td>\n",
       "      <td>0.0</td>\n",
       "      <td>1.0</td>\n",
       "      <td>0.0</td>\n",
       "    </tr>\n",
       "    <tr>\n",
       "      <th>2</th>\n",
       "      <td>1</td>\n",
       "      <td>5000</td>\n",
       "      <td>0</td>\n",
       "      <td>0.0</td>\n",
       "      <td>0.0</td>\n",
       "      <td>0.0</td>\n",
       "      <td>0.0</td>\n",
       "      <td>0.0</td>\n",
       "      <td>1.0</td>\n",
       "      <td>0.0</td>\n",
       "      <td>...</td>\n",
       "      <td>0.0</td>\n",
       "      <td>0.0</td>\n",
       "      <td>0.0</td>\n",
       "      <td>0.0</td>\n",
       "      <td>0.0</td>\n",
       "      <td>0.0</td>\n",
       "      <td>0.0</td>\n",
       "      <td>0.0</td>\n",
       "      <td>1.0</td>\n",
       "      <td>0.0</td>\n",
       "    </tr>\n",
       "    <tr>\n",
       "      <th>3</th>\n",
       "      <td>1</td>\n",
       "      <td>6692</td>\n",
       "      <td>1</td>\n",
       "      <td>0.0</td>\n",
       "      <td>0.0</td>\n",
       "      <td>0.0</td>\n",
       "      <td>1.0</td>\n",
       "      <td>0.0</td>\n",
       "      <td>0.0</td>\n",
       "      <td>0.0</td>\n",
       "      <td>...</td>\n",
       "      <td>0.0</td>\n",
       "      <td>1.0</td>\n",
       "      <td>0.0</td>\n",
       "      <td>0.0</td>\n",
       "      <td>0.0</td>\n",
       "      <td>0.0</td>\n",
       "      <td>0.0</td>\n",
       "      <td>0.0</td>\n",
       "      <td>1.0</td>\n",
       "      <td>0.0</td>\n",
       "    </tr>\n",
       "    <tr>\n",
       "      <th>4</th>\n",
       "      <td>1</td>\n",
       "      <td>142590</td>\n",
       "      <td>1</td>\n",
       "      <td>0.0</td>\n",
       "      <td>0.0</td>\n",
       "      <td>0.0</td>\n",
       "      <td>1.0</td>\n",
       "      <td>0.0</td>\n",
       "      <td>0.0</td>\n",
       "      <td>0.0</td>\n",
       "      <td>...</td>\n",
       "      <td>0.0</td>\n",
       "      <td>0.0</td>\n",
       "      <td>1.0</td>\n",
       "      <td>0.0</td>\n",
       "      <td>0.0</td>\n",
       "      <td>0.0</td>\n",
       "      <td>0.0</td>\n",
       "      <td>0.0</td>\n",
       "      <td>1.0</td>\n",
       "      <td>0.0</td>\n",
       "    </tr>\n",
       "  </tbody>\n",
       "</table>\n",
       "<p>5 rows × 44 columns</p>\n",
       "</div>"
      ],
      "text/plain": [
       "   STATUS  ASK_AMT  IS_SUCCESSFUL  APPLICATION_TYPE_Other  \\\n",
       "0       1     5000              1                     0.0   \n",
       "1       1   108590              1                     0.0   \n",
       "2       1     5000              0                     0.0   \n",
       "3       1     6692              1                     0.0   \n",
       "4       1   142590              1                     0.0   \n",
       "\n",
       "   APPLICATION_TYPE_T10  APPLICATION_TYPE_T19  APPLICATION_TYPE_T3  \\\n",
       "0                   1.0                   0.0                  0.0   \n",
       "1                   0.0                   0.0                  1.0   \n",
       "2                   0.0                   0.0                  0.0   \n",
       "3                   0.0                   0.0                  1.0   \n",
       "4                   0.0                   0.0                  1.0   \n",
       "\n",
       "   APPLICATION_TYPE_T4  APPLICATION_TYPE_T5  APPLICATION_TYPE_T6  ...  \\\n",
       "0                  0.0                  0.0                  0.0  ...   \n",
       "1                  0.0                  0.0                  0.0  ...   \n",
       "2                  0.0                  1.0                  0.0  ...   \n",
       "3                  0.0                  0.0                  0.0  ...   \n",
       "4                  0.0                  0.0                  0.0  ...   \n",
       "\n",
       "   INCOME_AMT_1-9999  INCOME_AMT_10000-24999  INCOME_AMT_100000-499999  \\\n",
       "0                0.0                     0.0                       0.0   \n",
       "1                1.0                     0.0                       0.0   \n",
       "2                0.0                     0.0                       0.0   \n",
       "3                0.0                     1.0                       0.0   \n",
       "4                0.0                     0.0                       1.0   \n",
       "\n",
       "   INCOME_AMT_10M-50M  INCOME_AMT_1M-5M  INCOME_AMT_25000-99999  \\\n",
       "0                 0.0               0.0                     0.0   \n",
       "1                 0.0               0.0                     0.0   \n",
       "2                 0.0               0.0                     0.0   \n",
       "3                 0.0               0.0                     0.0   \n",
       "4                 0.0               0.0                     0.0   \n",
       "\n",
       "   INCOME_AMT_50M+  INCOME_AMT_5M-10M  SPECIAL_CONSIDERATIONS_N  \\\n",
       "0              0.0                0.0                       1.0   \n",
       "1              0.0                0.0                       1.0   \n",
       "2              0.0                0.0                       1.0   \n",
       "3              0.0                0.0                       1.0   \n",
       "4              0.0                0.0                       1.0   \n",
       "\n",
       "   SPECIAL_CONSIDERATIONS_Y  \n",
       "0                       0.0  \n",
       "1                       0.0  \n",
       "2                       0.0  \n",
       "3                       0.0  \n",
       "4                       0.0  \n",
       "\n",
       "[5 rows x 44 columns]"
      ]
     },
     "execution_count": 20,
     "metadata": {},
     "output_type": "execute_result"
    }
   ],
   "source": [
    "# Merge one-hot encoded features and drop the originals\n",
    "application_df = application_df.merge(encode_df,left_index=True, right_index=True)\n",
    "application_df = application_df.drop(application_cat,1)\n",
    "application_df.head()"
   ]
  },
  {
   "cell_type": "code",
   "execution_count": 21,
   "metadata": {},
   "outputs": [
    {
     "name": "stderr",
     "output_type": "stream",
     "text": [
      "/Users/davidwiers/opt/anaconda3/envs/mlenv/lib/python3.7/site-packages/ipykernel_launcher.py:3: FutureWarning: In a future version of pandas all arguments of DataFrame.drop except for the argument 'labels' will be keyword-only\n",
      "  This is separate from the ipykernel package so we can avoid doing imports until\n"
     ]
    }
   ],
   "source": [
    "# Split our preprocessed data into our features and target arrays\n",
    "y = application_df[\"IS_SUCCESSFUL\"].values\n",
    "X = application_df.drop([\"IS_SUCCESSFUL\"],1).values\n",
    "\n"
   ]
  },
  {
   "cell_type": "code",
   "execution_count": 22,
   "metadata": {},
   "outputs": [],
   "source": [
    "\n",
    "# Split the preprocessed data into a training and testing dataset\n",
    "X_train, X_test, y_train, y_test = train_test_split(X, y, random_state=70)\n"
   ]
  },
  {
   "cell_type": "code",
   "execution_count": 23,
   "metadata": {},
   "outputs": [],
   "source": [
    "# Create a StandardScaler instances\n",
    "scaler = StandardScaler()\n",
    "\n",
    "# Fit the StandardScaler\n",
    "X_scaler = scaler.fit(X_train)\n",
    "\n",
    "# Scale the data\n",
    "X_train_scaled = X_scaler.transform(X_train)\n",
    "X_test_scaled = X_scaler.transform(X_test)"
   ]
  },
  {
   "cell_type": "markdown",
   "metadata": {},
   "source": [
    "### Deliverable 2: Compile, Train and Evaluate the Model"
   ]
  },
  {
   "cell_type": "code",
   "execution_count": 24,
   "metadata": {},
   "outputs": [
    {
     "name": "stdout",
     "output_type": "stream",
     "text": [
      "Model: \"sequential\"\n",
      "_________________________________________________________________\n",
      " Layer (type)                Output Shape              Param #   \n",
      "=================================================================\n",
      " dense (Dense)               (None, 8)                 352       \n",
      "                                                                 \n",
      " dense_1 (Dense)             (None, 5)                 45        \n",
      "                                                                 \n",
      " dense_2 (Dense)             (None, 1)                 6         \n",
      "                                                                 \n",
      "=================================================================\n",
      "Total params: 403\n",
      "Trainable params: 403\n",
      "Non-trainable params: 0\n",
      "_________________________________________________________________\n"
     ]
    },
    {
     "name": "stderr",
     "output_type": "stream",
     "text": [
      "2022-05-08 12:13:18.690991: I tensorflow/core/platform/cpu_feature_guard.cc:151] This TensorFlow binary is optimized with oneAPI Deep Neural Network Library (oneDNN) to use the following CPU instructions in performance-critical operations:  AVX2 FMA\n",
      "To enable them in other operations, rebuild TensorFlow with the appropriate compiler flags.\n"
     ]
    }
   ],
   "source": [
    "# Define the model - deep neural net, i.e., the number of input features and hidden nodes for each layer.\n",
    "number_input_features = len(X_train[0])\n",
    "hidden_nodes_layer1 = 8\n",
    "hidden_nodes_layer2 = 5\n",
    "\n",
    "nn = tf.keras.models.Sequential()\n",
    "\n",
    "# First hidden layer\n",
    "nn.add(\n",
    "    tf.keras.layers.Dense(units=hidden_nodes_layer1, input_dim=number_input_features, activation=\"relu\")\n",
    ")\n",
    "# Second hidden layer\n",
    "nn.add(tf.keras.layers.Dense(units=hidden_nodes_layer2, activation=\"relu\"))\n",
    "\n",
    "# Output layer\n",
    "nn.add(tf.keras.layers.Dense(units=1, activation=\"sigmoid\"))\n",
    "\n",
    "# Check the structure of the model\n",
    "nn.summary()"
   ]
  },
  {
   "cell_type": "code",
   "execution_count": 25,
   "metadata": {},
   "outputs": [],
   "source": [
    "# Compile the model\n",
    "nn.compile(loss=\"binary_crossentropy\", optimizer=\"adam\", metrics=[\"accuracy\"])"
   ]
  },
  {
   "cell_type": "code",
   "execution_count": 26,
   "metadata": {},
   "outputs": [
    {
     "name": "stdout",
     "output_type": "stream",
     "text": [
      "Epoch 1/30\n",
      "WARNING:tensorflow:AutoGraph could not transform <function Model.make_train_function.<locals>.train_function at 0x7f9129c4d5f0> and will run it as-is.\n",
      "Please report this to the TensorFlow team. When filing the bug, set the verbosity to 10 (on Linux, `export AUTOGRAPH_VERBOSITY=10`) and attach the full output.\n",
      "Cause: 'arguments' object has no attribute 'posonlyargs'\n",
      "To silence this warning, decorate the function with @tf.autograph.experimental.do_not_convert\n",
      "WARNING: AutoGraph could not transform <function Model.make_train_function.<locals>.train_function at 0x7f9129c4d5f0> and will run it as-is.\n",
      "Please report this to the TensorFlow team. When filing the bug, set the verbosity to 10 (on Linux, `export AUTOGRAPH_VERBOSITY=10`) and attach the full output.\n",
      "Cause: 'arguments' object has no attribute 'posonlyargs'\n",
      "To silence this warning, decorate the function with @tf.autograph.experimental.do_not_convert\n",
      "804/804 [==============================] - 1s 1ms/step - loss: 20150.4980 - accuracy: 0.4939\n",
      "Epoch 2/30\n",
      "804/804 [==============================] - 1s 1ms/step - loss: 7809.1235 - accuracy: 0.4993\n",
      "Epoch 3/30\n",
      "804/804 [==============================] - 1s 1ms/step - loss: 5383.4048 - accuracy: 0.5026\n",
      "Epoch 4/30\n",
      "804/804 [==============================] - 1s 1ms/step - loss: 6067.4004 - accuracy: 0.5077\n",
      "Epoch 5/30\n",
      "804/804 [==============================] - 1s 1ms/step - loss: 4233.1025 - accuracy: 0.5035\n",
      "Epoch 6/30\n",
      "804/804 [==============================] - 1s 1ms/step - loss: 8194.6875 - accuracy: 0.5022\n",
      "Epoch 7/30\n",
      "804/804 [==============================] - 1s 1ms/step - loss: 4312.3125 - accuracy: 0.5295\n",
      "Epoch 8/30\n",
      "804/804 [==============================] - 1s 1ms/step - loss: 4574.8423 - accuracy: 0.5406\n",
      "Epoch 9/30\n",
      "804/804 [==============================] - 1s 1ms/step - loss: 2097.0776 - accuracy: 0.5169\n",
      "Epoch 10/30\n",
      "804/804 [==============================] - 1s 1ms/step - loss: 5266.5850 - accuracy: 0.4989\n",
      "Epoch 11/30\n",
      "804/804 [==============================] - 1s 1ms/step - loss: 5612.6719 - accuracy: 0.5070\n",
      "Epoch 12/30\n",
      "804/804 [==============================] - 1s 960us/step - loss: 2831.5208 - accuracy: 0.5411\n",
      "Epoch 13/30\n",
      "804/804 [==============================] - 1s 975us/step - loss: 6022.9878 - accuracy: 0.5020\n",
      "Epoch 14/30\n",
      "804/804 [==============================] - 1s 932us/step - loss: 2786.9004 - accuracy: 0.5548\n",
      "Epoch 15/30\n",
      "804/804 [==============================] - 1s 943us/step - loss: 4028.5591 - accuracy: 0.5566\n",
      "Epoch 16/30\n",
      "804/804 [==============================] - 1s 951us/step - loss: 4539.9038 - accuracy: 0.5194\n",
      "Epoch 17/30\n",
      "804/804 [==============================] - 1s 999us/step - loss: 2964.9788 - accuracy: 0.5451\n",
      "Epoch 18/30\n",
      "804/804 [==============================] - 1s 967us/step - loss: 1586.5110 - accuracy: 0.5546\n",
      "Epoch 19/30\n",
      "804/804 [==============================] - 1s 1ms/step - loss: 2209.6631 - accuracy: 0.5412\n",
      "Epoch 20/30\n",
      "804/804 [==============================] - 1s 1ms/step - loss: 3065.3594 - accuracy: 0.5366\n",
      "Epoch 21/30\n",
      "804/804 [==============================] - 1s 1ms/step - loss: 746.8453 - accuracy: 0.5090\n",
      "Epoch 22/30\n",
      "804/804 [==============================] - 1s 1ms/step - loss: 3213.3860 - accuracy: 0.5360\n",
      "Epoch 23/30\n",
      "804/804 [==============================] - 1s 1ms/step - loss: 589.5835 - accuracy: 0.5722\n",
      "Epoch 24/30\n",
      "804/804 [==============================] - 1s 1ms/step - loss: 2077.3911 - accuracy: 0.5753\n",
      "Epoch 25/30\n",
      "804/804 [==============================] - 1s 1ms/step - loss: 1724.2129 - accuracy: 0.5576\n",
      "Epoch 26/30\n",
      "804/804 [==============================] - 1s 1ms/step - loss: 1277.1677 - accuracy: 0.5345\n",
      "Epoch 27/30\n",
      "804/804 [==============================] - 1s 1ms/step - loss: 454.4355 - accuracy: 0.5967\n",
      "Epoch 28/30\n",
      "804/804 [==============================] - 1s 2ms/step - loss: 673.6846 - accuracy: 0.5494\n",
      "Epoch 29/30\n",
      "804/804 [==============================] - 1s 1ms/step - loss: 212.6338 - accuracy: 0.5915\n",
      "Epoch 30/30\n",
      "804/804 [==============================] - 1s 1ms/step - loss: 63.8312 - accuracy: 0.5474\n"
     ]
    }
   ],
   "source": [
    "# Train the model\n",
    "fit_model = nn.fit(X_train,y_train,epochs=30)"
   ]
  },
  {
   "cell_type": "code",
   "execution_count": 28,
   "metadata": {},
   "outputs": [
    {
     "name": "stdout",
     "output_type": "stream",
     "text": [
      "268/268 - 0s - loss: 1.3351 - accuracy: 0.6963 - 188ms/epoch - 701us/step\n",
      "Loss: 1.3351160287857056, Accuracy: 0.6963265538215637\n"
     ]
    }
   ],
   "source": [
    "# Evaluate the model using the test data\n",
    "model_loss, model_accuracy = nn.evaluate(X_test_scaled,y_test,verbose=2)\n",
    "print(f\"Loss: {model_loss}, Accuracy: {model_accuracy}\")"
   ]
  },
  {
   "cell_type": "code",
   "execution_count": 29,
   "metadata": {},
   "outputs": [],
   "source": [
    "import os\n",
    "from tensorflow.keras.callbacks import ModelCheckpoint"
   ]
  },
  {
   "cell_type": "code",
   "execution_count": 30,
   "metadata": {},
   "outputs": [],
   "source": [
    "# Define the checkpoint path and filenames\n",
    "os.makedirs(\"checkpoints/\",exist_ok=True)\n",
    "checkpoint_path = \"checkpoints/weights.{epoch:02d}.hdf5\""
   ]
  },
  {
   "cell_type": "code",
   "execution_count": 31,
   "metadata": {},
   "outputs": [
    {
     "name": "stdout",
     "output_type": "stream",
     "text": [
      "Epoch 1/100\n",
      "WARNING:tensorflow:AutoGraph could not transform <function Model.make_train_function.<locals>.train_function at 0x7f912ec28830> and will run it as-is.\n",
      "Please report this to the TensorFlow team. When filing the bug, set the verbosity to 10 (on Linux, `export AUTOGRAPH_VERBOSITY=10`) and attach the full output.\n",
      "Cause: 'arguments' object has no attribute 'posonlyargs'\n",
      "To silence this warning, decorate the function with @tf.autograph.experimental.do_not_convert\n",
      "WARNING: AutoGraph could not transform <function Model.make_train_function.<locals>.train_function at 0x7f912ec28830> and will run it as-is.\n",
      "Please report this to the TensorFlow team. When filing the bug, set the verbosity to 10 (on Linux, `export AUTOGRAPH_VERBOSITY=10`) and attach the full output.\n",
      "Cause: 'arguments' object has no attribute 'posonlyargs'\n",
      "To silence this warning, decorate the function with @tf.autograph.experimental.do_not_convert\n",
      "765/804 [===========================>..] - ETA: 0s - loss: 0.6510 - accuracy: 0.6959\n",
      "Epoch 1: saving model to checkpoints/weights.01.hdf5\n",
      "804/804 [==============================] - 1s 1ms/step - loss: 0.6487 - accuracy: 0.6958\n",
      "Epoch 2/100\n",
      "795/804 [============================>.] - ETA: 0s - loss: 0.5811 - accuracy: 0.7088\n",
      "Epoch 2: saving model to checkpoints/weights.02.hdf5\n",
      "804/804 [==============================] - 1s 1ms/step - loss: 0.5809 - accuracy: 0.7090\n",
      "Epoch 3/100\n",
      "755/804 [===========================>..] - ETA: 0s - loss: 0.5740 - accuracy: 0.7107\n",
      "Epoch 3: saving model to checkpoints/weights.03.hdf5\n",
      "804/804 [==============================] - 1s 1ms/step - loss: 0.5743 - accuracy: 0.7101\n",
      "Epoch 4/100\n",
      "786/804 [============================>.] - ETA: 0s - loss: 0.5696 - accuracy: 0.7121\n",
      "Epoch 4: saving model to checkpoints/weights.04.hdf5\n",
      "804/804 [==============================] - 1s 1ms/step - loss: 0.5695 - accuracy: 0.7121\n",
      "Epoch 5/100\n",
      "804/804 [==============================] - ETA: 0s - loss: 0.5673 - accuracy: 0.7124\n",
      "Epoch 5: saving model to checkpoints/weights.05.hdf5\n",
      "804/804 [==============================] - 1s 1ms/step - loss: 0.5673 - accuracy: 0.7124\n",
      "Epoch 6/100\n",
      "792/804 [============================>.] - ETA: 0s - loss: 0.5657 - accuracy: 0.7128\n",
      "Epoch 6: saving model to checkpoints/weights.06.hdf5\n",
      "804/804 [==============================] - 1s 1ms/step - loss: 0.5653 - accuracy: 0.7130\n",
      "Epoch 7/100\n",
      "780/804 [============================>.] - ETA: 0s - loss: 0.5646 - accuracy: 0.7116\n",
      "Epoch 7: saving model to checkpoints/weights.07.hdf5\n",
      "804/804 [==============================] - 1s 1ms/step - loss: 0.5640 - accuracy: 0.7123\n",
      "Epoch 8/100\n",
      "799/804 [============================>.] - ETA: 0s - loss: 0.5630 - accuracy: 0.7126\n",
      "Epoch 8: saving model to checkpoints/weights.08.hdf5\n",
      "804/804 [==============================] - 1s 1ms/step - loss: 0.5629 - accuracy: 0.7127\n",
      "Epoch 9/100\n",
      "777/804 [===========================>..] - ETA: 0s - loss: 0.5627 - accuracy: 0.7116\n",
      "Epoch 9: saving model to checkpoints/weights.09.hdf5\n",
      "804/804 [==============================] - 1s 1ms/step - loss: 0.5612 - accuracy: 0.7127\n",
      "Epoch 10/100\n",
      "768/804 [===========================>..] - ETA: 0s - loss: 0.5618 - accuracy: 0.7116\n",
      "Epoch 10: saving model to checkpoints/weights.10.hdf5\n",
      "804/804 [==============================] - 1s 1ms/step - loss: 0.5610 - accuracy: 0.7122\n",
      "Epoch 11/100\n",
      "796/804 [============================>.] - ETA: 0s - loss: 0.5598 - accuracy: 0.7131\n",
      "Epoch 11: saving model to checkpoints/weights.11.hdf5\n",
      "804/804 [==============================] - 1s 1ms/step - loss: 0.5598 - accuracy: 0.7129\n",
      "Epoch 12/100\n",
      "760/804 [===========================>..] - ETA: 0s - loss: 0.5611 - accuracy: 0.7109\n",
      "Epoch 12: saving model to checkpoints/weights.12.hdf5\n",
      "804/804 [==============================] - 1s 1ms/step - loss: 0.5593 - accuracy: 0.7122\n",
      "Epoch 13/100\n",
      "795/804 [============================>.] - ETA: 0s - loss: 0.5583 - accuracy: 0.7178\n",
      "Epoch 13: saving model to checkpoints/weights.13.hdf5\n",
      "804/804 [==============================] - 1s 1ms/step - loss: 0.5584 - accuracy: 0.7174\n",
      "Epoch 14/100\n",
      "768/804 [===========================>..] - ETA: 0s - loss: 0.5585 - accuracy: 0.7273\n",
      "Epoch 14: saving model to checkpoints/weights.14.hdf5\n",
      "804/804 [==============================] - 1s 1ms/step - loss: 0.5578 - accuracy: 0.7278\n",
      "Epoch 15/100\n",
      "779/804 [============================>.] - ETA: 0s - loss: 0.5567 - accuracy: 0.7287\n",
      "Epoch 15: saving model to checkpoints/weights.15.hdf5\n",
      "804/804 [==============================] - 1s 1ms/step - loss: 0.5571 - accuracy: 0.7288\n",
      "Epoch 16/100\n",
      "771/804 [===========================>..] - ETA: 0s - loss: 0.5564 - accuracy: 0.7277\n",
      "Epoch 16: saving model to checkpoints/weights.16.hdf5\n",
      "804/804 [==============================] - 1s 1ms/step - loss: 0.5567 - accuracy: 0.7280\n",
      "Epoch 17/100\n",
      "763/804 [===========================>..] - ETA: 0s - loss: 0.5561 - accuracy: 0.7292\n",
      "Epoch 17: saving model to checkpoints/weights.17.hdf5\n",
      "804/804 [==============================] - 1s 1ms/step - loss: 0.5558 - accuracy: 0.7291\n",
      "Epoch 18/100\n",
      "762/804 [===========================>..] - ETA: 0s - loss: 0.5553 - accuracy: 0.7289\n",
      "Epoch 18: saving model to checkpoints/weights.18.hdf5\n",
      "804/804 [==============================] - 1s 1ms/step - loss: 0.5555 - accuracy: 0.7289\n",
      "Epoch 19/100\n",
      "769/804 [===========================>..] - ETA: 0s - loss: 0.5557 - accuracy: 0.7284\n",
      "Epoch 19: saving model to checkpoints/weights.19.hdf5\n",
      "804/804 [==============================] - 1s 1ms/step - loss: 0.5550 - accuracy: 0.7292\n",
      "Epoch 20/100\n",
      "787/804 [============================>.] - ETA: 0s - loss: 0.5542 - accuracy: 0.7303\n",
      "Epoch 20: saving model to checkpoints/weights.20.hdf5\n",
      "804/804 [==============================] - 1s 1ms/step - loss: 0.5542 - accuracy: 0.7299\n",
      "Epoch 21/100\n",
      "771/804 [===========================>..] - ETA: 0s - loss: 0.5528 - accuracy: 0.7313\n",
      "Epoch 21: saving model to checkpoints/weights.21.hdf5\n",
      "804/804 [==============================] - 1s 1ms/step - loss: 0.5540 - accuracy: 0.7303\n",
      "Epoch 22/100\n",
      "796/804 [============================>.] - ETA: 0s - loss: 0.5534 - accuracy: 0.7312\n",
      "Epoch 22: saving model to checkpoints/weights.22.hdf5\n",
      "804/804 [==============================] - 1s 1ms/step - loss: 0.5538 - accuracy: 0.7309\n",
      "Epoch 23/100\n",
      "803/804 [============================>.] - ETA: 0s - loss: 0.5532 - accuracy: 0.7309\n",
      "Epoch 23: saving model to checkpoints/weights.23.hdf5\n",
      "804/804 [==============================] - 1s 1ms/step - loss: 0.5531 - accuracy: 0.7310\n",
      "Epoch 24/100\n",
      "787/804 [============================>.] - ETA: 0s - loss: 0.5528 - accuracy: 0.7299\n",
      "Epoch 24: saving model to checkpoints/weights.24.hdf5\n",
      "804/804 [==============================] - 1s 1ms/step - loss: 0.5530 - accuracy: 0.7299\n",
      "Epoch 25/100\n",
      "791/804 [============================>.] - ETA: 0s - loss: 0.5523 - accuracy: 0.7306\n",
      "Epoch 25: saving model to checkpoints/weights.25.hdf5\n",
      "804/804 [==============================] - 1s 1ms/step - loss: 0.5523 - accuracy: 0.7310\n",
      "Epoch 26/100\n",
      "785/804 [============================>.] - ETA: 0s - loss: 0.5533 - accuracy: 0.7306\n",
      "Epoch 26: saving model to checkpoints/weights.26.hdf5\n",
      "804/804 [==============================] - 1s 1ms/step - loss: 0.5532 - accuracy: 0.7306\n",
      "Epoch 27/100\n",
      "787/804 [============================>.] - ETA: 0s - loss: 0.5525 - accuracy: 0.7311\n",
      "Epoch 27: saving model to checkpoints/weights.27.hdf5\n",
      "804/804 [==============================] - 1s 1ms/step - loss: 0.5524 - accuracy: 0.7317\n",
      "Epoch 28/100\n",
      "795/804 [============================>.] - ETA: 0s - loss: 0.5523 - accuracy: 0.7305\n",
      "Epoch 28: saving model to checkpoints/weights.28.hdf5\n",
      "804/804 [==============================] - 1s 1ms/step - loss: 0.5518 - accuracy: 0.7310\n",
      "Epoch 29/100\n",
      "756/804 [===========================>..] - ETA: 0s - loss: 0.5520 - accuracy: 0.7312\n",
      "Epoch 29: saving model to checkpoints/weights.29.hdf5\n",
      "804/804 [==============================] - 1s 1ms/step - loss: 0.5519 - accuracy: 0.7314\n",
      "Epoch 30/100\n",
      "757/804 [===========================>..] - ETA: 0s - loss: 0.5513 - accuracy: 0.7308\n",
      "Epoch 30: saving model to checkpoints/weights.30.hdf5\n",
      "804/804 [==============================] - 1s 1ms/step - loss: 0.5520 - accuracy: 0.7307\n",
      "Epoch 31/100\n"
     ]
    },
    {
     "name": "stdout",
     "output_type": "stream",
     "text": [
      "798/804 [============================>.] - ETA: 0s - loss: 0.5519 - accuracy: 0.7311\n",
      "Epoch 31: saving model to checkpoints/weights.31.hdf5\n",
      "804/804 [==============================] - 1s 962us/step - loss: 0.5517 - accuracy: 0.7312\n",
      "Epoch 32/100\n",
      "795/804 [============================>.] - ETA: 0s - loss: 0.5511 - accuracy: 0.7318\n",
      "Epoch 32: saving model to checkpoints/weights.32.hdf5\n",
      "804/804 [==============================] - 1s 974us/step - loss: 0.5516 - accuracy: 0.7313\n",
      "Epoch 33/100\n",
      "790/804 [============================>.] - ETA: 0s - loss: 0.5513 - accuracy: 0.7314\n",
      "Epoch 33: saving model to checkpoints/weights.33.hdf5\n",
      "804/804 [==============================] - 1s 971us/step - loss: 0.5516 - accuracy: 0.7308\n",
      "Epoch 34/100\n",
      "777/804 [===========================>..] - ETA: 0s - loss: 0.5509 - accuracy: 0.7323\n",
      "Epoch 34: saving model to checkpoints/weights.34.hdf5\n",
      "804/804 [==============================] - 1s 1ms/step - loss: 0.5511 - accuracy: 0.7323\n",
      "Epoch 35/100\n",
      "788/804 [============================>.] - ETA: 0s - loss: 0.5499 - accuracy: 0.7310\n",
      "Epoch 35: saving model to checkpoints/weights.35.hdf5\n",
      "804/804 [==============================] - 1s 975us/step - loss: 0.5508 - accuracy: 0.7303\n",
      "Epoch 36/100\n",
      "767/804 [===========================>..] - ETA: 0s - loss: 0.5509 - accuracy: 0.7317\n",
      "Epoch 36: saving model to checkpoints/weights.36.hdf5\n",
      "804/804 [==============================] - 1s 934us/step - loss: 0.5508 - accuracy: 0.7315\n",
      "Epoch 37/100\n",
      "750/804 [==========================>...] - ETA: 0s - loss: 0.5511 - accuracy: 0.7306\n",
      "Epoch 37: saving model to checkpoints/weights.37.hdf5\n",
      "804/804 [==============================] - 1s 948us/step - loss: 0.5509 - accuracy: 0.7313\n",
      "Epoch 38/100\n",
      "798/804 [============================>.] - ETA: 0s - loss: 0.5501 - accuracy: 0.7323\n",
      "Epoch 38: saving model to checkpoints/weights.38.hdf5\n",
      "804/804 [==============================] - 1s 963us/step - loss: 0.5504 - accuracy: 0.7319\n",
      "Epoch 39/100\n",
      "790/804 [============================>.] - ETA: 0s - loss: 0.5503 - accuracy: 0.7316\n",
      "Epoch 39: saving model to checkpoints/weights.39.hdf5\n",
      "804/804 [==============================] - 1s 970us/step - loss: 0.5504 - accuracy: 0.7315\n",
      "Epoch 40/100\n",
      "751/804 [===========================>..] - ETA: 0s - loss: 0.5506 - accuracy: 0.7314\n",
      "Epoch 40: saving model to checkpoints/weights.40.hdf5\n",
      "804/804 [==============================] - 1s 951us/step - loss: 0.5504 - accuracy: 0.7311\n",
      "Epoch 41/100\n",
      "794/804 [============================>.] - ETA: 0s - loss: 0.5500 - accuracy: 0.7332\n",
      "Epoch 41: saving model to checkpoints/weights.41.hdf5\n",
      "804/804 [==============================] - 1s 970us/step - loss: 0.5504 - accuracy: 0.7329\n",
      "Epoch 42/100\n",
      "764/804 [===========================>..] - ETA: 0s - loss: 0.5505 - accuracy: 0.7308\n",
      "Epoch 42: saving model to checkpoints/weights.42.hdf5\n",
      "804/804 [==============================] - 1s 1ms/step - loss: 0.5502 - accuracy: 0.7305\n",
      "Epoch 43/100\n",
      "769/804 [===========================>..] - ETA: 0s - loss: 0.5503 - accuracy: 0.7313\n",
      "Epoch 43: saving model to checkpoints/weights.43.hdf5\n",
      "804/804 [==============================] - 1s 996us/step - loss: 0.5503 - accuracy: 0.7312\n",
      "Epoch 44/100\n",
      "804/804 [==============================] - ETA: 0s - loss: 0.5499 - accuracy: 0.7313\n",
      "Epoch 44: saving model to checkpoints/weights.44.hdf5\n",
      "804/804 [==============================] - 1s 957us/step - loss: 0.5499 - accuracy: 0.7313\n",
      "Epoch 45/100\n",
      "773/804 [===========================>..] - ETA: 0s - loss: 0.5501 - accuracy: 0.7315\n",
      "Epoch 45: saving model to checkpoints/weights.45.hdf5\n",
      "804/804 [==============================] - 1s 1ms/step - loss: 0.5498 - accuracy: 0.7313\n",
      "Epoch 46/100\n",
      "784/804 [============================>.] - ETA: 0s - loss: 0.5496 - accuracy: 0.7315\n",
      "Epoch 46: saving model to checkpoints/weights.46.hdf5\n",
      "804/804 [==============================] - 1s 1ms/step - loss: 0.5496 - accuracy: 0.7313\n",
      "Epoch 47/100\n",
      "762/804 [===========================>..] - ETA: 0s - loss: 0.5498 - accuracy: 0.7308\n",
      "Epoch 47: saving model to checkpoints/weights.47.hdf5\n",
      "804/804 [==============================] - 1s 1ms/step - loss: 0.5499 - accuracy: 0.7307\n",
      "Epoch 48/100\n",
      "804/804 [==============================] - ETA: 0s - loss: 0.5501 - accuracy: 0.7313\n",
      "Epoch 48: saving model to checkpoints/weights.48.hdf5\n",
      "804/804 [==============================] - 1s 1ms/step - loss: 0.5501 - accuracy: 0.7313\n",
      "Epoch 49/100\n",
      "785/804 [============================>.] - ETA: 0s - loss: 0.5491 - accuracy: 0.7320\n",
      "Epoch 49: saving model to checkpoints/weights.49.hdf5\n",
      "804/804 [==============================] - 1s 1ms/step - loss: 0.5494 - accuracy: 0.7316\n",
      "Epoch 50/100\n",
      "801/804 [============================>.] - ETA: 0s - loss: 0.5492 - accuracy: 0.7322\n",
      "Epoch 50: saving model to checkpoints/weights.50.hdf5\n",
      "804/804 [==============================] - 1s 1ms/step - loss: 0.5493 - accuracy: 0.7321\n",
      "Epoch 51/100\n",
      "774/804 [===========================>..] - ETA: 0s - loss: 0.5497 - accuracy: 0.7311\n",
      "Epoch 51: saving model to checkpoints/weights.51.hdf5\n",
      "804/804 [==============================] - 1s 1ms/step - loss: 0.5492 - accuracy: 0.7316\n",
      "Epoch 52/100\n",
      "778/804 [============================>.] - ETA: 0s - loss: 0.5500 - accuracy: 0.7310\n",
      "Epoch 52: saving model to checkpoints/weights.52.hdf5\n",
      "804/804 [==============================] - 1s 2ms/step - loss: 0.5497 - accuracy: 0.7315\n",
      "Epoch 53/100\n",
      "779/804 [============================>.] - ETA: 0s - loss: 0.5493 - accuracy: 0.7312\n",
      "Epoch 53: saving model to checkpoints/weights.53.hdf5\n",
      "804/804 [==============================] - 1s 1ms/step - loss: 0.5491 - accuracy: 0.7315\n",
      "Epoch 54/100\n",
      "779/804 [============================>.] - ETA: 0s - loss: 0.5490 - accuracy: 0.7320\n",
      "Epoch 54: saving model to checkpoints/weights.54.hdf5\n",
      "804/804 [==============================] - 1s 1ms/step - loss: 0.5490 - accuracy: 0.7324\n",
      "Epoch 55/100\n",
      "789/804 [============================>.] - ETA: 0s - loss: 0.5493 - accuracy: 0.7312\n",
      "Epoch 55: saving model to checkpoints/weights.55.hdf5\n",
      "804/804 [==============================] - 1s 1ms/step - loss: 0.5494 - accuracy: 0.7312\n",
      "Epoch 56/100\n",
      "782/804 [============================>.] - ETA: 0s - loss: 0.5489 - accuracy: 0.7322\n",
      "Epoch 56: saving model to checkpoints/weights.56.hdf5\n",
      "804/804 [==============================] - 1s 1ms/step - loss: 0.5497 - accuracy: 0.7317\n",
      "Epoch 57/100\n",
      "762/804 [===========================>..] - ETA: 0s - loss: 0.5491 - accuracy: 0.7312\n",
      "Epoch 57: saving model to checkpoints/weights.57.hdf5\n",
      "804/804 [==============================] - 1s 1ms/step - loss: 0.5491 - accuracy: 0.7313\n",
      "Epoch 58/100\n",
      "770/804 [===========================>..] - ETA: 0s - loss: 0.5481 - accuracy: 0.7321\n",
      "Epoch 58: saving model to checkpoints/weights.58.hdf5\n",
      "804/804 [==============================] - 1s 1ms/step - loss: 0.5489 - accuracy: 0.7315\n",
      "Epoch 59/100\n",
      "778/804 [============================>.] - ETA: 0s - loss: 0.5483 - accuracy: 0.7320\n",
      "Epoch 59: saving model to checkpoints/weights.59.hdf5\n",
      "804/804 [==============================] - 1s 1ms/step - loss: 0.5490 - accuracy: 0.7313\n",
      "Epoch 60/100\n",
      "799/804 [============================>.] - ETA: 0s - loss: 0.5492 - accuracy: 0.7325\n",
      "Epoch 60: saving model to checkpoints/weights.60.hdf5\n",
      "804/804 [==============================] - 1s 1ms/step - loss: 0.5495 - accuracy: 0.7320\n",
      "Epoch 61/100\n",
      "787/804 [============================>.] - ETA: 0s - loss: 0.5492 - accuracy: 0.7322\n",
      "Epoch 61: saving model to checkpoints/weights.61.hdf5\n",
      "804/804 [==============================] - 1s 1ms/step - loss: 0.5494 - accuracy: 0.7324\n",
      "Epoch 62/100\n",
      "793/804 [============================>.] - ETA: 0s - loss: 0.5485 - accuracy: 0.7331\n",
      "Epoch 62: saving model to checkpoints/weights.62.hdf5\n",
      "804/804 [==============================] - 1s 1ms/step - loss: 0.5489 - accuracy: 0.7325\n",
      "Epoch 63/100\n",
      "783/804 [============================>.] - ETA: 0s - loss: 0.5487 - accuracy: 0.7328\n",
      "Epoch 63: saving model to checkpoints/weights.63.hdf5\n",
      "804/804 [==============================] - 1s 1ms/step - loss: 0.5488 - accuracy: 0.7328\n",
      "Epoch 64/100\n",
      "772/804 [===========================>..] - ETA: 0s - loss: 0.5492 - accuracy: 0.7299\n",
      "Epoch 64: saving model to checkpoints/weights.64.hdf5\n",
      "804/804 [==============================] - 1s 1ms/step - loss: 0.5488 - accuracy: 0.7303\n"
     ]
    },
    {
     "name": "stdout",
     "output_type": "stream",
     "text": [
      "Epoch 65/100\n",
      "789/804 [============================>.] - ETA: 0s - loss: 0.5483 - accuracy: 0.7324\n",
      "Epoch 65: saving model to checkpoints/weights.65.hdf5\n",
      "804/804 [==============================] - 1s 1ms/step - loss: 0.5485 - accuracy: 0.7324\n",
      "Epoch 66/100\n",
      "771/804 [===========================>..] - ETA: 0s - loss: 0.5485 - accuracy: 0.7315\n",
      "Epoch 66: saving model to checkpoints/weights.66.hdf5\n",
      "804/804 [==============================] - 1s 1ms/step - loss: 0.5486 - accuracy: 0.7315\n",
      "Epoch 67/100\n",
      "797/804 [============================>.] - ETA: 0s - loss: 0.5481 - accuracy: 0.7327\n",
      "Epoch 67: saving model to checkpoints/weights.67.hdf5\n",
      "804/804 [==============================] - 1s 1ms/step - loss: 0.5485 - accuracy: 0.7324\n",
      "Epoch 68/100\n",
      "779/804 [============================>.] - ETA: 0s - loss: 0.5495 - accuracy: 0.7313\n",
      "Epoch 68: saving model to checkpoints/weights.68.hdf5\n",
      "804/804 [==============================] - 1s 1ms/step - loss: 0.5488 - accuracy: 0.7323\n",
      "Epoch 69/100\n",
      "767/804 [===========================>..] - ETA: 0s - loss: 0.5483 - accuracy: 0.7315\n",
      "Epoch 69: saving model to checkpoints/weights.69.hdf5\n",
      "804/804 [==============================] - 1s 1ms/step - loss: 0.5486 - accuracy: 0.7315\n",
      "Epoch 70/100\n",
      "792/804 [============================>.] - ETA: 0s - loss: 0.5487 - accuracy: 0.7310\n",
      "Epoch 70: saving model to checkpoints/weights.70.hdf5\n",
      "804/804 [==============================] - 1s 1ms/step - loss: 0.5484 - accuracy: 0.7315\n",
      "Epoch 71/100\n",
      "787/804 [============================>.] - ETA: 0s - loss: 0.5481 - accuracy: 0.7331\n",
      "Epoch 71: saving model to checkpoints/weights.71.hdf5\n",
      "804/804 [==============================] - 1s 1ms/step - loss: 0.5480 - accuracy: 0.7331\n",
      "Epoch 72/100\n",
      "784/804 [============================>.] - ETA: 0s - loss: 0.5492 - accuracy: 0.7316\n",
      "Epoch 72: saving model to checkpoints/weights.72.hdf5\n",
      "804/804 [==============================] - 1s 1ms/step - loss: 0.5487 - accuracy: 0.7319\n",
      "Epoch 73/100\n",
      "799/804 [============================>.] - ETA: 0s - loss: 0.5481 - accuracy: 0.7317\n",
      "Epoch 73: saving model to checkpoints/weights.73.hdf5\n",
      "804/804 [==============================] - 1s 1ms/step - loss: 0.5479 - accuracy: 0.7320\n",
      "Epoch 74/100\n",
      "794/804 [============================>.] - ETA: 0s - loss: 0.5482 - accuracy: 0.7328\n",
      "Epoch 74: saving model to checkpoints/weights.74.hdf5\n",
      "804/804 [==============================] - 1s 1ms/step - loss: 0.5483 - accuracy: 0.7329\n",
      "Epoch 75/100\n",
      "792/804 [============================>.] - ETA: 0s - loss: 0.5485 - accuracy: 0.7312\n",
      "Epoch 75: saving model to checkpoints/weights.75.hdf5\n",
      "804/804 [==============================] - 1s 1ms/step - loss: 0.5482 - accuracy: 0.7315\n",
      "Epoch 76/100\n",
      "773/804 [===========================>..] - ETA: 0s - loss: 0.5488 - accuracy: 0.7325\n",
      "Epoch 76: saving model to checkpoints/weights.76.hdf5\n",
      "804/804 [==============================] - 1s 2ms/step - loss: 0.5481 - accuracy: 0.7329\n",
      "Epoch 77/100\n",
      "785/804 [============================>.] - ETA: 0s - loss: 0.5481 - accuracy: 0.7326\n",
      "Epoch 77: saving model to checkpoints/weights.77.hdf5\n",
      "804/804 [==============================] - 1s 2ms/step - loss: 0.5480 - accuracy: 0.7325\n",
      "Epoch 78/100\n",
      "767/804 [===========================>..] - ETA: 0s - loss: 0.5489 - accuracy: 0.7317\n",
      "Epoch 78: saving model to checkpoints/weights.78.hdf5\n",
      "804/804 [==============================] - 1s 1ms/step - loss: 0.5482 - accuracy: 0.7322\n",
      "Epoch 79/100\n",
      "800/804 [============================>.] - ETA: 0s - loss: 0.5478 - accuracy: 0.7334\n",
      "Epoch 79: saving model to checkpoints/weights.79.hdf5\n",
      "804/804 [==============================] - 1s 1ms/step - loss: 0.5480 - accuracy: 0.7332\n",
      "Epoch 80/100\n",
      "754/804 [===========================>..] - ETA: 0s - loss: 0.5482 - accuracy: 0.7325\n",
      "Epoch 80: saving model to checkpoints/weights.80.hdf5\n",
      "804/804 [==============================] - 1s 943us/step - loss: 0.5483 - accuracy: 0.7327\n",
      "Epoch 81/100\n",
      "803/804 [============================>.] - ETA: 0s - loss: 0.5486 - accuracy: 0.7328\n",
      "Epoch 81: saving model to checkpoints/weights.81.hdf5\n",
      "804/804 [==============================] - 1s 957us/step - loss: 0.5485 - accuracy: 0.7329\n",
      "Epoch 82/100\n",
      "779/804 [============================>.] - ETA: 0s - loss: 0.5479 - accuracy: 0.7328\n",
      "Epoch 82: saving model to checkpoints/weights.82.hdf5\n",
      "804/804 [==============================] - 1s 921us/step - loss: 0.5478 - accuracy: 0.7328\n",
      "Epoch 83/100\n",
      "799/804 [============================>.] - ETA: 0s - loss: 0.5482 - accuracy: 0.7327\n",
      "Epoch 83: saving model to checkpoints/weights.83.hdf5\n",
      "804/804 [==============================] - 1s 898us/step - loss: 0.5480 - accuracy: 0.7329\n",
      "Epoch 84/100\n",
      "788/804 [============================>.] - ETA: 0s - loss: 0.5485 - accuracy: 0.7318\n",
      "Epoch 84: saving model to checkpoints/weights.84.hdf5\n",
      "804/804 [==============================] - 1s 919us/step - loss: 0.5480 - accuracy: 0.7324\n",
      "Epoch 85/100\n",
      "771/804 [===========================>..] - ETA: 0s - loss: 0.5474 - accuracy: 0.7343\n",
      "Epoch 85: saving model to checkpoints/weights.85.hdf5\n",
      "804/804 [==============================] - 1s 1ms/step - loss: 0.5482 - accuracy: 0.7337\n",
      "Epoch 86/100\n",
      "802/804 [============================>.] - ETA: 0s - loss: 0.5476 - accuracy: 0.7323\n",
      "Epoch 86: saving model to checkpoints/weights.86.hdf5\n",
      "804/804 [==============================] - 1s 958us/step - loss: 0.5476 - accuracy: 0.7323\n",
      "Epoch 87/100\n",
      "772/804 [===========================>..] - ETA: 0s - loss: 0.5485 - accuracy: 0.7315\n",
      "Epoch 87: saving model to checkpoints/weights.87.hdf5\n",
      "804/804 [==============================] - 1s 922us/step - loss: 0.5479 - accuracy: 0.7320\n",
      "Epoch 88/100\n",
      "784/804 [============================>.] - ETA: 0s - loss: 0.5480 - accuracy: 0.7322\n",
      "Epoch 88: saving model to checkpoints/weights.88.hdf5\n",
      "804/804 [==============================] - 1s 917us/step - loss: 0.5479 - accuracy: 0.7324\n",
      "Epoch 89/100\n",
      "775/804 [===========================>..] - ETA: 0s - loss: 0.5474 - accuracy: 0.7327\n",
      "Epoch 89: saving model to checkpoints/weights.89.hdf5\n",
      "804/804 [==============================] - 1s 927us/step - loss: 0.5480 - accuracy: 0.7326\n",
      "Epoch 90/100\n",
      "795/804 [============================>.] - ETA: 0s - loss: 0.5484 - accuracy: 0.7318\n",
      "Epoch 90: saving model to checkpoints/weights.90.hdf5\n",
      "804/804 [==============================] - 1s 900us/step - loss: 0.5478 - accuracy: 0.7321\n",
      "Epoch 91/100\n",
      "746/804 [==========================>...] - ETA: 0s - loss: 0.5476 - accuracy: 0.7318\n",
      "Epoch 91: saving model to checkpoints/weights.91.hdf5\n",
      "804/804 [==============================] - 1s 890us/step - loss: 0.5477 - accuracy: 0.7322\n",
      "Epoch 92/100\n",
      "800/804 [============================>.] - ETA: 0s - loss: 0.5482 - accuracy: 0.7325\n",
      "Epoch 92: saving model to checkpoints/weights.92.hdf5\n",
      "804/804 [==============================] - 1s 895us/step - loss: 0.5480 - accuracy: 0.7327\n",
      "Epoch 93/100\n",
      "767/804 [===========================>..] - ETA: 0s - loss: 0.5482 - accuracy: 0.7312\n",
      "Epoch 93: saving model to checkpoints/weights.93.hdf5\n",
      "804/804 [==============================] - 1s 864us/step - loss: 0.5478 - accuracy: 0.7317\n",
      "Epoch 94/100\n",
      "751/804 [===========================>..] - ETA: 0s - loss: 0.5485 - accuracy: 0.7326\n",
      "Epoch 94: saving model to checkpoints/weights.94.hdf5\n",
      "804/804 [==============================] - 1s 882us/step - loss: 0.5484 - accuracy: 0.7323\n",
      "Epoch 95/100\n",
      "772/804 [===========================>..] - ETA: 0s - loss: 0.5472 - accuracy: 0.7338\n",
      "Epoch 95: saving model to checkpoints/weights.95.hdf5\n",
      "804/804 [==============================] - 1s 1ms/step - loss: 0.5478 - accuracy: 0.7330\n",
      "Epoch 96/100\n",
      "772/804 [===========================>..] - ETA: 0s - loss: 0.5480 - accuracy: 0.7316\n",
      "Epoch 96: saving model to checkpoints/weights.96.hdf5\n",
      "804/804 [==============================] - 1s 996us/step - loss: 0.5476 - accuracy: 0.7323\n",
      "Epoch 97/100\n",
      "752/804 [===========================>..] - ETA: 0s - loss: 0.5488 - accuracy: 0.7316\n",
      "Epoch 97: saving model to checkpoints/weights.97.hdf5\n",
      "804/804 [==============================] - 1s 1ms/step - loss: 0.5477 - accuracy: 0.7327\n",
      "Epoch 98/100\n",
      "800/804 [============================>.] - ETA: 0s - loss: 0.5481 - accuracy: 0.7315\n",
      "Epoch 98: saving model to checkpoints/weights.98.hdf5\n",
      "804/804 [==============================] - 1s 897us/step - loss: 0.5479 - accuracy: 0.7318\n"
     ]
    },
    {
     "name": "stdout",
     "output_type": "stream",
     "text": [
      "Epoch 99/100\n",
      "790/804 [============================>.] - ETA: 0s - loss: 0.5474 - accuracy: 0.7331\n",
      "Epoch 99: saving model to checkpoints/weights.99.hdf5\n",
      "804/804 [==============================] - 1s 842us/step - loss: 0.5474 - accuracy: 0.7330\n",
      "Epoch 100/100\n",
      "754/804 [===========================>..] - ETA: 0s - loss: 0.5485 - accuracy: 0.7309\n",
      "Epoch 100: saving model to checkpoints/weights.100.hdf5\n",
      "804/804 [==============================] - 1s 879us/step - loss: 0.5476 - accuracy: 0.7324\n",
      "WARNING:tensorflow:AutoGraph could not transform <function Model.make_test_function.<locals>.test_function at 0x7f912a400b90> and will run it as-is.\n",
      "Please report this to the TensorFlow team. When filing the bug, set the verbosity to 10 (on Linux, `export AUTOGRAPH_VERBOSITY=10`) and attach the full output.\n",
      "Cause: 'arguments' object has no attribute 'posonlyargs'\n",
      "To silence this warning, decorate the function with @tf.autograph.experimental.do_not_convert\n",
      "WARNING: AutoGraph could not transform <function Model.make_test_function.<locals>.test_function at 0x7f912a400b90> and will run it as-is.\n",
      "Please report this to the TensorFlow team. When filing the bug, set the verbosity to 10 (on Linux, `export AUTOGRAPH_VERBOSITY=10`) and attach the full output.\n",
      "Cause: 'arguments' object has no attribute 'posonlyargs'\n",
      "To silence this warning, decorate the function with @tf.autograph.experimental.do_not_convert\n",
      "268/268 - 0s - loss: 0.5652 - accuracy: 0.7271 - 276ms/epoch - 1ms/step\n",
      "Loss: 0.5652233958244324, Accuracy: 0.7271137237548828\n"
     ]
    }
   ],
   "source": [
    "# Compile the model\n",
    "nn.compile(loss=\"binary_crossentropy\", optimizer=\"adam\", metrics=[\"accuracy\"])\n",
    "\n",
    "# Create a callback that saves the model's weights every epoch\n",
    "cp_callback = ModelCheckpoint(\n",
    "    filepath=checkpoint_path,\n",
    "    verbose=1,\n",
    "    save_weights_only=True,\n",
    "    save_freq='epoch')\n",
    "\n",
    "# Train the model\n",
    "fit_model = nn.fit(X_train_scaled,y_train,epochs=100,callbacks=[cp_callback])\n",
    "\n",
    "# Evaluate the model using the test data\n",
    "model_loss, model_accuracy = nn.evaluate(X_test_scaled,y_test,verbose=2)\n",
    "print(f\"Loss: {model_loss}, Accuracy: {model_accuracy}\")"
   ]
  },
  {
   "cell_type": "code",
   "execution_count": 32,
   "metadata": {},
   "outputs": [
    {
     "name": "stdout",
     "output_type": "stream",
     "text": [
      "WARNING:tensorflow:AutoGraph could not transform <function Model.make_test_function.<locals>.test_function at 0x7f912a4f9a70> and will run it as-is.\n",
      "Please report this to the TensorFlow team. When filing the bug, set the verbosity to 10 (on Linux, `export AUTOGRAPH_VERBOSITY=10`) and attach the full output.\n",
      "Cause: 'arguments' object has no attribute 'posonlyargs'\n",
      "To silence this warning, decorate the function with @tf.autograph.experimental.do_not_convert\n",
      "WARNING: AutoGraph could not transform <function Model.make_test_function.<locals>.test_function at 0x7f912a4f9a70> and will run it as-is.\n",
      "Please report this to the TensorFlow team. When filing the bug, set the verbosity to 10 (on Linux, `export AUTOGRAPH_VERBOSITY=10`) and attach the full output.\n",
      "Cause: 'arguments' object has no attribute 'posonlyargs'\n",
      "To silence this warning, decorate the function with @tf.autograph.experimental.do_not_convert\n",
      "268/268 - 1s - loss: 0.5652 - accuracy: 0.7271 - 514ms/epoch - 2ms/step\n",
      "Loss: 0.5652233958244324, Accuracy: 0.7271137237548828\n"
     ]
    }
   ],
   "source": [
    "# Define the model - deep neural net\n",
    "number_input_features = len(X_train_scaled[0])\n",
    "hidden_nodes_layer1 = 8\n",
    "hidden_nodes_layer2 = 5\n",
    "\n",
    "nn_new = tf.keras.models.Sequential()\n",
    "\n",
    "# First hidden layer\n",
    "nn_new.add(\n",
    "    tf.keras.layers.Dense(units=hidden_nodes_layer1, input_dim=number_input_features, activation=\"relu\")\n",
    ")\n",
    "\n",
    "# Second hidden layer\n",
    "nn_new.add(tf.keras.layers.Dense(units=hidden_nodes_layer2, activation=\"relu\"))\n",
    "\n",
    "# Output layer\n",
    "nn_new.add(tf.keras.layers.Dense(units=1, activation=\"sigmoid\"))\n",
    "\n",
    "# Compile the model\n",
    "nn_new.compile(loss=\"binary_crossentropy\", optimizer=\"adam\", metrics=[\"accuracy\"])\n",
    "\n",
    "# Restore the model weights\n",
    "nn_new.load_weights(\"checkpoints/weights.100.hdf5\")\n",
    "\n",
    "# Evaluate the model using the test data\n",
    "model_loss, model_accuracy = nn_new.evaluate(X_test_scaled,y_test,verbose=2)\n",
    "print(f\"Loss: {model_loss}, Accuracy: {model_accuracy}\")"
   ]
  },
  {
   "cell_type": "code",
   "execution_count": 33,
   "metadata": {},
   "outputs": [],
   "source": [
    "# Export our model to HDF5 file\n",
    "nn_new.save(\"trained_applications.h5\")\n"
   ]
  },
  {
   "cell_type": "code",
   "execution_count": 34,
   "metadata": {},
   "outputs": [],
   "source": [
    "# Import the model to a new object\n",
    "nn_imported = tf.keras.models.load_model('trained_applications.h5')"
   ]
  },
  {
   "cell_type": "code",
   "execution_count": 35,
   "metadata": {
    "scrolled": true
   },
   "outputs": [
    {
     "name": "stdout",
     "output_type": "stream",
     "text": [
      "WARNING:tensorflow:AutoGraph could not transform <function Model.make_test_function.<locals>.test_function at 0x7f912a51b560> and will run it as-is.\n",
      "Please report this to the TensorFlow team. When filing the bug, set the verbosity to 10 (on Linux, `export AUTOGRAPH_VERBOSITY=10`) and attach the full output.\n",
      "Cause: 'arguments' object has no attribute 'posonlyargs'\n",
      "To silence this warning, decorate the function with @tf.autograph.experimental.do_not_convert\n",
      "WARNING: AutoGraph could not transform <function Model.make_test_function.<locals>.test_function at 0x7f912a51b560> and will run it as-is.\n",
      "Please report this to the TensorFlow team. When filing the bug, set the verbosity to 10 (on Linux, `export AUTOGRAPH_VERBOSITY=10`) and attach the full output.\n",
      "Cause: 'arguments' object has no attribute 'posonlyargs'\n",
      "To silence this warning, decorate the function with @tf.autograph.experimental.do_not_convert\n",
      "268/268 - 0s - loss: 0.5652 - accuracy: 0.7271 - 293ms/epoch - 1ms/step\n",
      "Loss: 0.5652233958244324, Accuracy: 0.7271137237548828\n"
     ]
    }
   ],
   "source": [
    "# Evaluate the completed model using the test data\n",
    "model_loss, model_accuracy = nn_imported.evaluate(X_test_scaled,y_test,verbose=2)\n",
    "print(f\"Loss: {model_loss}, Accuracy: {model_accuracy}\")"
   ]
  },
  {
   "cell_type": "code",
   "execution_count": null,
   "metadata": {},
   "outputs": [],
   "source": []
  },
  {
   "cell_type": "code",
   "execution_count": null,
   "metadata": {},
   "outputs": [],
   "source": []
  },
  {
   "cell_type": "code",
   "execution_count": null,
   "metadata": {},
   "outputs": [],
   "source": []
  }
 ],
 "metadata": {
  "kernelspec": {
   "display_name": "mlenv",
   "language": "python",
   "name": "mlenv"
  },
  "language_info": {
   "codemirror_mode": {
    "name": "ipython",
    "version": 3
   },
   "file_extension": ".py",
   "mimetype": "text/x-python",
   "name": "python",
   "nbconvert_exporter": "python",
   "pygments_lexer": "ipython3",
   "version": "3.7.11"
  }
 },
 "nbformat": 4,
 "nbformat_minor": 2
}
